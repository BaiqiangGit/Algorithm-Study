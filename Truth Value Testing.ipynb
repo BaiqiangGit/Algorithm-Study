{
 "cells": [
  {
   "cell_type": "markdown",
   "metadata": {},
   "source": [
    "https://docs.python.org/2/library/stdtypes.html"
   ]
  },
  {
   "cell_type": "markdown",
   "metadata": {},
   "source": [
    "5.1. Truth Value Testing\n",
    "Any object can be tested for truth value, for use in an if or while condition or as operand of the Boolean operations below. The following values are considered false:\n",
    "\n",
    "* None\n",
    "\n",
    "* False\n",
    "\n",
    "* zero of any numeric type, for example, 0, 0L, 0.0, 0j.\n",
    "\n",
    "* any empty sequence, for example, '', (), [].\n",
    "\n",
    "* any empty mapping, for example, {}.\n",
    "\n",
    "* instances of user-defined classes, if the class defines a __nonzero__() or __len__() method, when that method returns the integer zero or bool value False. [1]\n",
    "\n",
    "All other values are considered true — so objects of many types are always true.\n",
    "\n",
    "Operations and built-in functions that have a Boolean result always return 0 or False for false and 1 or True for true, unless otherwise stated. (Important exception: the Boolean operations or and and always return one of their operands.)"
   ]
  },
  {
   "cell_type": "code",
   "execution_count": 30,
   "metadata": {},
   "outputs": [
    {
     "name": "stdout",
     "output_type": "stream",
     "text": [
      "@when using False and None, they are always refer to same object, see ids below:\n",
      "id(False) 10296512 , id(None) 10302688\n",
      "id(False) 10296512 , id(None) 10302688\n",
      "id(False) 10296512 , id(None) 10302688\n"
     ]
    }
   ],
   "source": [
    "print('@when using False and None, they are always refer to same object, see ids below:')\n",
    "print('id(False)', id(False), ', id(None)', id(None))\n",
    "print('id(False)', id(False), ', id(None)', id(None))\n",
    "print('id(False)', id(False), ', id(None)', id(None))\n"
   ]
  },
  {
   "cell_type": "code",
   "execution_count": null,
   "metadata": {},
   "outputs": [],
   "source": []
  },
  {
   "cell_type": "markdown",
   "metadata": {},
   "source": [
    "## Mutable vs Immutable Objects in Python\n",
    "https://medium.com/@meghamohan/mutable-and-immutable-side-of-python-c2145cf72747\n",
    "\n",
    "mutable object can be changed after it is created, and an immutable object can’t.\n",
    "\n",
    "* Objects of built-in types like (int, float, bool, str, tuple, unicode) are immutable. \n",
    "* Objects of built-in types like (list, set, dict) are mutable. \n",
    "* Custom classes are generally mutable.\n",
    "* To simulate immutability in a class, one should override attribute setting and deletion to raise exceptions."
   ]
  },
  {
   "cell_type": "markdown",
   "metadata": {},
   "source": [
    "### Mutable objects\n",
    "Objects with same value may have diffent ids"
   ]
  },
  {
   "cell_type": "code",
   "execution_count": 47,
   "metadata": {},
   "outputs": [
    {
     "name": "stdout",
     "output_type": "stream",
     "text": [
      "@when using empty mutable data type, they refer to differnt object, see ids below:\n",
      "Run 1: id(list()): 140010437868936 , id(dict()): 140010437348880 , id(set()): 140010530107912\n",
      "Run 2: id(list()): 140010510585288 , id(dict()): 140010437348952 , id(set()): 140010530107912\n",
      "Run 2: id(list()): 140010510610824 , id(dict()): 140010437349024 , id(set()): 140010530107912\n",
      "Run 4: id(list()): 140010510585288 , id(dict()): 140010437348952\n",
      "Run 5: id(list()): 140010510610824 , id(dict()): 140010437349024\n",
      "Run 6: id(list()): 140010510585288 , id(dict()): 140010437348952\n",
      "\n",
      "@but python will reuse same object if possible to be more efficient, e.g. :\n",
      "Run 1: id(list()): 140010437321800 140010437321800 , id(dict()): 140010437349096 140010437349096\n"
     ]
    }
   ],
   "source": [
    "print('@when using empty mutable data type, they refer to differnt object, see ids below:')\n",
    "print('Run 1: id(list()):', id(list()), ', id(dict()):', id(dict()), ', id(set()):', id(set())) \n",
    "print('Run 2: id(list()):', id(list()), ', id(dict()):', id(dict()), ', id(set()):', id(set())) \n",
    "print('Run 2: id(list()):', id(list()), ', id(dict()):', id(dict()), ', id(set()):', id(set())) \n",
    "print('Run 4: id(list()):', id([]), ', id(dict()):', id({}))\n",
    "print('Run 5: id(list()):', id([]), ', id(dict()):', id({}))\n",
    "print('Run 6: id(list()):', id([]), ', id(dict()):', id({}))\n",
    "print()\n",
    "print('@but python will reuse same object if possible to be more efficient, e.g. :')\n",
    "print('Run 1: id(list()):', id(list()), id([]), ', id(dict()):', id(dict()), id({})) \n"
   ]
  },
  {
   "cell_type": "markdown",
   "metadata": {},
   "source": [
    "### Mutable objects evaluated as False\n",
    "\n",
    "* set() or {}\n",
    "* list() or [] \n",
    "* dict()"
   ]
  },
  {
   "cell_type": "code",
   "execution_count": 94,
   "metadata": {},
   "outputs": [
    {
     "name": "stdout",
     "output_type": "stream",
     "text": [
      "@Truth values: False False False False False\n",
      "@use two not operators, don't use this: \n",
      "Exammple Code: print(1 and set())\n",
      "Output: 'set()' is an object, not boolean value:\n"
     ]
    }
   ],
   "source": [
    "## print the truth values of the empty objects from these data types\n",
    "print('@Truth values:',not not set(), not not {}, not not list(), not not [], not not dict())\n",
    "print('@use two not operators, don\\'t use this: \\nExammple Code: print(1 and set())')\n",
    "print('Output: \\'%s\\' is an object, not boolean value:' %(1 and set()))"
   ]
  },
  {
   "cell_type": "markdown",
   "metadata": {},
   "source": [
    "### Immutable objects evaluated as False\n",
    "\n",
    "* zero of any numeric type\n",
    "* tuple()\n"
   ]
  },
  {
   "cell_type": "code",
   "execution_count": 83,
   "metadata": {},
   "outputs": [
    {
     "name": "stdout",
     "output_type": "stream",
     "text": [
      "@Truth values: False False False False\n",
      "@Truth values: False False\n"
     ]
    }
   ],
   "source": [
    "print('@Truth values:',not not 0, not not 0.0, not not complex(0), bool(0))\n",
    "print('@Truth values:',not not tuple(), not not ())"
   ]
  },
  {
   "cell_type": "code",
   "execution_count": 90,
   "metadata": {},
   "outputs": [
    {
     "name": "stdout",
     "output_type": "stream",
     "text": [
      "140010657083464\n",
      "check follow:\n",
      "140010657083464\n",
      "140010657083464\n",
      "140010657083464\n",
      "140010657083464\n",
      "140010657083464\n",
      "140010657083464\n"
     ]
    }
   ],
   "source": [
    "## empty tuple has same id\n",
    "print(id(tuple()))\n",
    "print('check follow:')\n",
    "print(id(tuple()))\n",
    "print(id(tuple()))\n",
    "print(id(tuple()))\n",
    "print(id(tuple()))\n",
    "print(id(tuple()))\n",
    "print(id(tuple()))\n"
   ]
  },
  {
   "cell_type": "markdown",
   "metadata": {},
   "source": [
    "### Other objects evaluated as False\n",
    "* range(0)"
   ]
  },
  {
   "cell_type": "code",
   "execution_count": 92,
   "metadata": {},
   "outputs": [
    {
     "name": "stdout",
     "output_type": "stream",
     "text": [
      "False\n"
     ]
    }
   ],
   "source": [
    "print(not not range(0))"
   ]
  },
  {
   "cell_type": "code",
   "execution_count": null,
   "metadata": {},
   "outputs": [],
   "source": []
  }
 ],
 "metadata": {
  "kernelspec": {
   "display_name": "Python 3",
   "language": "python",
   "name": "python3"
  },
  "language_info": {
   "codemirror_mode": {
    "name": "ipython",
    "version": 3
   },
   "file_extension": ".py",
   "mimetype": "text/x-python",
   "name": "python",
   "nbconvert_exporter": "python",
   "pygments_lexer": "ipython3",
   "version": "3.6.7"
  }
 },
 "nbformat": 4,
 "nbformat_minor": 2
}
