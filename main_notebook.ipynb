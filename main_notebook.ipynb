{
 "cells": [
  {
   "cell_type": "markdown",
   "metadata": {},
   "source": [
    "## why use data structure\n",
    "\n",
    "- Particular structure make particular calculation more efficiently."
   ]
  },
  {
   "cell_type": "markdown",
   "metadata": {},
   "source": [
    "## what are data structures\n",
    "\n",
    "According to the way they are accessed/indexed:\n",
    "#### Linear Data Structures\n",
    "- data elements are accessed in sequential order (not necessarily stored in linear sequence)\n",
    "    - list\n",
    "    - linked list\n",
    "    - queue\n",
    "    - stack\n",
    "    \n",
    "#### Non-linear Data Structures\n",
    "- data elements are accessed in non-sequential order\n",
    "    - tree\n",
    "    - heap\n",
    "    - graph\n",
    "\n",
    "\n",
    "According to the way they are defined:\n",
    "#### Primitive Data Type\n",
    "- fixed implementation\n",
    "    - int, str, char, float\n",
    "    - Array,list\n",
    "\n",
    "#### Abstract Data Type\n",
    "- defined in terms of the operations on it, implementation may vary\n",
    "    - Linked Lists \n",
    "    - Stacks \n",
    "    - Queues \n",
    "    - Priority Queues\n",
    "    - Binary Trees\n",
    "    - Dictionaries\n",
    "    - Disjoint Sets (Union and Find)\n",
    "    - Hash Tables\n",
    "    - Graphs"
   ]
  },
  {
   "cell_type": "markdown",
   "metadata": {},
   "source": [
    "## Array / List\n",
    "\n",
    "- data structure used to store homogeneous elements at contiguous memory locations.\n",
    "\n",
    "\n",
    "Pros:\n",
    "- Fast Random Access O(1)\n",
    "\n",
    "Cons:\n",
    "- Pre-defined static size\n",
    "- Strict continuous memory allocation\n",
    "- Expensive for edit: insert, delete, append\n",
    "\n",
    "Time Complexity:\n",
    "- index  O(1)\n",
    "- search O(n)\n",
    "- insert O(n)\n",
    "- delete O(n)"
   ]
  },
  {
   "cell_type": "code",
   "execution_count": null,
   "metadata": {},
   "outputs": [],
   "source": [
    "from Array import *\n",
    "A = array([1,2,3])\n",
    "A.insert(4,3)\n",
    "A.printArray()\n",
    "A.delete(2)\n",
    "A.printArray()"
   ]
  },
  {
   "cell_type": "markdown",
   "metadata": {},
   "source": [
    "### Singly Linked List\n",
    "- sequential data arrangement using pointers to indicate the order, not bounded to continuous physical memory locations. \n",
    "\n",
    "Pros:\n",
    "- Dynamic size\n",
    "- Memory efficient Insert/Delete\n",
    "- Use fractional memory\n",
    "\n",
    "Cons:\n",
    "- no random access, only sequential search possible\n",
    "- spend extra memory on pointers\n",
    "\n",
    "Complexity:\n",
    "* Insertion: O(1)\n",
    "    * Insertion at beginning (or front): O(1)\n",
    "    * Insertion at End: O(n)\n",
    "* Deletion: O(1)\n",
    "* Indexing: O(n)\n",
    "* Searching: O(n)\n",
    "* Reverse : O(n)"
   ]
  },
  {
   "cell_type": "code",
   "execution_count": null,
   "metadata": {},
   "outputs": [],
   "source": [
    "from singlyLinkedList import *\n",
    "lls = singlyLinkedList()\n",
    "lls.insert_at_tail(20)\n",
    "lls.insert_at_head(10)\n",
    "lls.insert_at_tail(30)\n",
    "lls.insert_at_head(0)\n",
    "lls.printSLL()\n",
    "lls.reverse()\n",
    "lls.printSLL()\n",
    "print()"
   ]
  },
  {
   "cell_type": "markdown",
   "metadata": {},
   "source": [
    "### Doubly Linked List\n",
    "\n",
    "each node contains data, and one pointer to pre, one pointer for nxt\n",
    "\n",
    "class methods:\n",
    "- print\n",
    "- length\n",
    "- insert\n",
    "- delete"
   ]
  },
  {
   "cell_type": "code",
   "execution_count": null,
   "metadata": {},
   "outputs": [],
   "source": [
    "from doublyLinkedList import *\n",
    "dll = doublyLinkedList()\n",
    "\n",
    "## insert\n",
    "dll.insert_at_head(10)\n",
    "dll.insert_at_head(20)\n",
    "dll.insert_at_head(30)\n",
    "dll.insert_at_head(40)\n",
    "dll.insert_at_head(50)\n",
    "\n",
    "## search\n",
    "dll.search(10)\n",
    "dll.search(100)\n",
    "dll.printDLL()\n",
    "\n",
    "## delete\n",
    "dll.delete(10)\n",
    "dll.delete(50)\n",
    "dll.delete(30)\n",
    "\n",
    "dll.printDLL()\n",
    "dll.delete(30)\n",
    "dll.delete(20)\n",
    "dll.delete(40)\n",
    "\n",
    "dll.printDLL()\n",
    "dll.delete(30)\n",
    "\n",
    "print()\n",
    "\n"
   ]
  },
  {
   "cell_type": "markdown",
   "metadata": {},
   "source": [
    "### Trees\n",
    "* data organized in **hierachical** order, one node connects to multi-nodes, noted as parent or children.\n",
    "* **root** node has no parent (None), only one root exists in a tree\n",
    "* **leaf** nodes have no children\n",
    "* nodes are linked by **edge**"
   ]
  },
  {
   "cell_type": "markdown",
   "metadata": {},
   "source": [
    "## Binary Tree\n",
    "* each tree node has no more than **2** children nodes (including empty tree)\n",
    "    * **Full binary tree** when each node has two children, except for leaf nodes\n",
    "    * **Complete binary tree** when all layers are fully filled, except last layer which should has no gap from left\n",
    "    * **Perfect binary tree** when all except last layer nodes have two children, and all leaf nodes are in one layer\n",
    "    * **Balanced binary tree** when height of the tree is O(Log n) where n is number of nodes\n",
    "        * **AVL tree** maintain O(Log n) height by making sure that the difference between heights of left and right subtrees is 1\n",
    "        * **Red-Black trees** maintain O(Log n) height by making sure that the number of Black nodes on every root to leaf paths are same and there are no adjacent red nodes.\n",
    "    * **degenerate (or pathological) tree** when one child per internal node, tree becomes doubly linked list\n",
    "    \n",
    "For visualizations:\n",
    "http://www.geeksforgeeks.org/binary-tree-set-3-types-of-binary-tree/\n",
    "\n",
    "For properties:\n",
    "http://www.geeksforgeeks.org/binary-tree-set-2-properties/\n",
    "\n",
    "### Tree traversal\n",
    "\n",
    "Due to non-linear arrangement, trees can be traversed in different ways:\n",
    "* **DFS Traversal**:\n",
    "    * Inorder     (left, data, right) 中序遍历\n",
    "    * Preorder   (data, left, right)  前序遍历\n",
    "    * Postorder (left, right, data)   后序遍历\n",
    "* **BFS Traversal**\n",
    "\n",
    "### Naive Tree\n",
    "* no nodes relationship constraint, e.g in binary search tree\n",
    "* construct manually with setters"
   ]
  },
  {
   "cell_type": "code",
   "execution_count": null,
   "metadata": {},
   "outputs": [],
   "source": [
    "from naiveBinaryTree import *\n",
    "nbt = naiveBinaryTree()\n",
    "for ii in range(9):\n",
    "    nbt.insert(ii)\n",
    "nbt.traverse_bfs()\n",
    "nbt.traverse_dfs_preorder(nbt.root)\n",
    "print()\n",
    "nbt.traverse_dfs_inorder(nbt.root)\n",
    "print()\n",
    "nbt.traverse_dfs_postorder(nbt.root)\n",
    "print()"
   ]
  },
  {
   "cell_type": "markdown",
   "metadata": {},
   "source": [
    "#### another way of making tree\n",
    "\n",
    "remember the None for parent pointer"
   ]
  },
  {
   "cell_type": "code",
   "execution_count": null,
   "metadata": {},
   "outputs": [],
   "source": [
    "root = treeNode(1, None, treeNode(4, None, treeNode(14), treeNode(24)), treeNode(2, None, treeNode(12), treeNode(22)))\n",
    "tree = naiveBinaryTree(root)\n",
    "tree.traverse_bfs()\n",
    "tree.traverse_dfs_preorder(tree.root)\n",
    "tree.traverse_dfs_inorder(tree.root)\n",
    "tree.traverse_dfs_postorder(tree.root)"
   ]
  },
  {
   "cell_type": "markdown",
   "metadata": {},
   "source": [
    "### Binary Search Tree\n",
    "criteria:\n",
    "* is binary tree\n",
    "* left < cur < right\n",
    "* no duplicate keys"
   ]
  },
  {
   "cell_type": "code",
   "execution_count": null,
   "metadata": {},
   "outputs": [],
   "source": [
    "from binarySearchTree import *\n",
    "import random\n",
    "bst = binarySearchTree()\n",
    "bst.search(25)\n",
    "print()"
   ]
  },
  {
   "cell_type": "code",
   "execution_count": null,
   "metadata": {},
   "outputs": [],
   "source": [
    "for ii in range(50):\n",
    "    bst.insert(random.randint(0,50))\n",
    "bst.printBST()\n",
    "bst.search(25)\n",
    "print()"
   ]
  },
  {
   "cell_type": "code",
   "execution_count": 1,
   "metadata": {
    "scrolled": false
   },
   "outputs": [
    {
     "name": "stdout",
     "output_type": "stream",
     "text": [
      "@insert 5 at root!\n",
      "@insert 2 as left leaf!\n",
      "@insert 4 as right leaf!\n",
      "@insert 11 as right leaf!\n",
      "@insert 13 as right leaf!\n",
      "@insert 1 as left leaf!\n",
      "@insert 9 as left leaf!\n",
      "@cannot insert duplicated value to bst!\n",
      "@insert 17 as right leaf!\n",
      "@insert 12 as left leaf!\n",
      "@insert 18 as right leaf!\n",
      "@cannot insert duplicated value to bst!\n",
      "@cannot insert duplicated value to bst!\n",
      "@cannot insert duplicated value to bst!\n",
      "@insert 6 as left leaf!\n",
      "@insert 16 as left leaf!\n",
      "@cannot insert duplicated value to bst!\n",
      "@cannot insert duplicated value to bst!\n",
      "@cannot insert duplicated value to bst!\n",
      "@cannot insert duplicated value to bst!\n",
      "False\n",
      "5\n",
      "1-2-4-5-6-9-11-12-13-16-17-18-\n",
      "5-2-1-4-11-9-6-13-12-17-16-18-\n",
      "1-4-2-6-9-12-16-18-17-13-11-5-\n",
      "\n",
      "5-\n",
      "2-11-\n",
      "1-4-9-13-\n",
      "6-12-17-\n",
      "16-18-\n"
     ]
    }
   ],
   "source": [
    "from bst import *\n",
    "import random\n",
    "bstree = bst()\n",
    "for _ in range(20):\n",
    "    bstree.insert(random.randint(0,20))\n",
    "    \n",
    "print(bstree.find(80))\n",
    "print(bstree.height())\n",
    "bstree.inorder()\n",
    "print()\n",
    "bstree.preorder()\n",
    "print()\n",
    "bstree.postorder()\n",
    "print()\n",
    "bstree.count()\n",
    "print()\n",
    "bstree.breadFirst()"
   ]
  },
  {
   "cell_type": "code",
   "execution_count": 2,
   "metadata": {},
   "outputs": [
    {
     "name": "stdout",
     "output_type": "stream",
     "text": [
      "5-\n",
      "2-11-\n",
      "1-4-9-13-\n",
      "6-12-17-\n",
      "16-18-\n",
      "1-2-4-5-6-9-11-12-13-16-17-18-"
     ]
    }
   ],
   "source": [
    "bstree.breadFirst()\n",
    "bstree.inorder()"
   ]
  },
  {
   "cell_type": "code",
   "execution_count": 3,
   "metadata": {},
   "outputs": [
    {
     "name": "stdout",
     "output_type": "stream",
     "text": [
      "@cannot find value L!\n",
      "1-2-4-6-6-9-11-12-13-16-17-18-"
     ]
    }
   ],
   "source": [
    "bstree.delete(5)\n",
    "bstree.inorder()"
   ]
  },
  {
   "cell_type": "code",
   "execution_count": 16,
   "metadata": {},
   "outputs": [
    {
     "name": "stdout",
     "output_type": "stream",
     "text": [
      "root val:  12\n",
      "12-\n",
      "2-13-\n",
      "1-4-12-17-\n",
      "16-18-\n"
     ]
    }
   ],
   "source": [
    "print('root val: ',bstree.root.val)\n",
    "bstree.delete(12)\n",
    "bstree.breadFirst()"
   ]
  },
  {
   "cell_type": "code",
   "execution_count": 12,
   "metadata": {},
   "outputs": [
    {
     "data": {
      "text/plain": [
       "int"
      ]
     },
     "execution_count": 12,
     "metadata": {},
     "output_type": "execute_result"
    }
   ],
   "source": [
    "type(9)"
   ]
  },
  {
   "cell_type": "code",
   "execution_count": 8,
   "metadata": {},
   "outputs": [
    {
     "data": {
      "text/plain": [
       "6"
      ]
     },
     "execution_count": 8,
     "metadata": {},
     "output_type": "execute_result"
    }
   ],
   "source": [
    "bstree.root.val"
   ]
  },
  {
   "cell_type": "code",
   "execution_count": null,
   "metadata": {},
   "outputs": [],
   "source": []
  }
 ],
 "metadata": {
  "anaconda-cloud": {},
  "kernelspec": {
   "display_name": "Python 3",
   "language": "python",
   "name": "python3"
  },
  "language_info": {
   "codemirror_mode": {
    "name": "ipython",
    "version": 3
   },
   "file_extension": ".py",
   "mimetype": "text/x-python",
   "name": "python",
   "nbconvert_exporter": "python",
   "pygments_lexer": "ipython3",
   "version": "3.7.1"
  }
 },
 "nbformat": 4,
 "nbformat_minor": 2
}
