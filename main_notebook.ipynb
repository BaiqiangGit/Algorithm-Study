{
 "cells": [
  {
   "cell_type": "markdown",
   "metadata": {},
   "source": [
    "## why use data structure\n",
    "\n",
    "- Particular structure make particular calculation more efficiently."
   ]
  },
  {
   "cell_type": "markdown",
   "metadata": {},
   "source": [
    "## what are data structures\n",
    "\n",
    "According to the way they are accessed/indexed:\n",
    "#### Linear Data Structures\n",
    "- data elements are accessed in sequential order (not necessarily stored in linear sequence)\n",
    "    - list\n",
    "    - linked list\n",
    "    - queue\n",
    "    - stack\n",
    "    \n",
    "#### Non-linear Data Structures\n",
    "- data elements are accessed in non-sequential order\n",
    "    - tree\n",
    "    - heap\n",
    "    - graph\n",
    "\n",
    "\n",
    "According to the way they are defined:\n",
    "#### Primitive Data Type\n",
    "- fixed implementation\n",
    "    - int, str, char, float\n",
    "    - Array,list\n",
    "\n",
    "#### Abstract Data Type\n",
    "- defined in terms of the operations on it, implementation may vary\n",
    "    - Linked Lists \n",
    "    - Stacks \n",
    "    - Queues \n",
    "    - Priority Queues\n",
    "    - Binary Trees\n",
    "    - Dictionaries\n",
    "    - Disjoint Sets (Union and Find)\n",
    "    - Hash Tables\n",
    "    - Graphs"
   ]
  },
  {
   "cell_type": "markdown",
   "metadata": {},
   "source": [
    "## Array / List\n",
    "\n",
    "- data structure used to store homogeneous elements at contiguous memory locations.\n",
    "\n",
    "\n",
    "Pros:\n",
    "- Fast Random Access O(1)\n",
    "\n",
    "Cons:\n",
    "- Pre-defined static size\n",
    "- Strict continuous memory allocation\n",
    "- Expensive for edit: insert, delete, append\n",
    "\n",
    "Time Complexity:\n",
    "- index  O(1)\n",
    "- search O(n)\n",
    "- insert O(n)\n",
    "- delete O(n)"
   ]
  },
  {
   "cell_type": "code",
   "execution_count": 1,
   "metadata": {},
   "outputs": [
    {
     "name": "stdout",
     "output_type": "stream",
     "text": [
      "@insert 3 to position 4\n",
      "[1, 2, 3, 4]\n",
      "@find and delete 2 at position 1\n",
      "[1, 3, 4]\n"
     ]
    }
   ],
   "source": [
    "from Array import *\n",
    "A = array([1,2,3])\n",
    "A.insert(4,3)\n",
    "A.printArray()\n",
    "A.delete(2)\n",
    "A.printArray()"
   ]
  },
  {
   "cell_type": "markdown",
   "metadata": {},
   "source": [
    "### Singly Linked List\n",
    "- sequential data arrangement using pointers to indicate the order, not bounded to continuous physical memory locations. \n",
    "\n",
    "Pros:\n",
    "- Dynamic size\n",
    "- Memory efficient Insert/Delete\n",
    "- Use fractional memory\n",
    "\n",
    "Cons:\n",
    "- no random access, only sequential search possible\n",
    "- spend extra memory on pointers\n",
    "\n",
    "Complexity:\n",
    "* Insertion: O(1)\n",
    "    * Insertion at beginning (or front): O(1)\n",
    "    * Insertion at End: O(n)\n",
    "* Deletion: O(1)\n",
    "* Indexing: O(n)\n",
    "* Searching: O(n)\n",
    "* Reverse : O(n)"
   ]
  },
  {
   "cell_type": "code",
   "execution_count": 2,
   "metadata": {},
   "outputs": [
    {
     "name": "stdout",
     "output_type": "stream",
     "text": [
      "@insert at tail to empty sll!\n",
      "@insert at head of sll!\n",
      "@insert at tail of sll!\n",
      "@insert at head of sll!\n",
      "(head)0 -->10 -->20 -->30 -->\n",
      "@finished printing sll of 4 nodes\n",
      "@finished reversing sll!\n",
      "(head)30 -->20 -->10 -->0 -->\n",
      "@finished printing sll of 4 nodes\n",
      "\n"
     ]
    }
   ],
   "source": [
    "from singlyLinkedList import *\n",
    "lls = singlyLinkedList()\n",
    "lls.insert_at_tail(20)\n",
    "lls.insert_at_head(10)\n",
    "lls.insert_at_tail(30)\n",
    "lls.insert_at_head(0)\n",
    "lls.printSLL()\n",
    "lls.reverse()\n",
    "lls.printSLL()\n",
    "print()"
   ]
  },
  {
   "cell_type": "markdown",
   "metadata": {},
   "source": [
    "### Doubly Linked List\n",
    "\n",
    "each node contains data, and one pointer to pre, one pointer for nxt\n",
    "\n",
    "class methods:\n",
    "- print\n",
    "- length\n",
    "- insert\n",
    "- delete"
   ]
  },
  {
   "cell_type": "code",
   "execution_count": 3,
   "metadata": {},
   "outputs": [
    {
     "name": "stdout",
     "output_type": "stream",
     "text": [
      "@insert node to empty dll!\n",
      "@insert node at head of dll!\n",
      "@insert node at head of dll!\n",
      "@insert node at head of dll!\n",
      "@insert node at head of dll!\n",
      "@found node with value 10 in dll!\n",
      "@no node found with value 100!\n",
      "@print dll from head!\n",
      "(root)50 <==>40 <==>30 <==>20 <==>10\n",
      "@finished printing 5 nodes of dll!\n",
      "@delete 1 node with value 10 at tail of dll!\n",
      "@delete 1 node with value 50 at head in dll!\n",
      "@delete 1 node with value 30 inside of dll!\n",
      "@print dll from head!\n",
      "(root)40 <==>20\n",
      "@finished printing 2 nodes of dll!\n",
      "@no matched node with value 30 in dll to delete!\n",
      "@delete 1 node with value 20 at tail of dll!\n",
      "@delete 1 node with value 40, now dll is empty!\n",
      "@print dll from head!\n",
      "@print empty dll!\n",
      "@finished printing 0 nodes of dll!\n",
      "@not able to delete node in empty dll!\n",
      "\n"
     ]
    }
   ],
   "source": [
    "from doublyLinkedList import *\n",
    "dll = doublyLinkedList()\n",
    "\n",
    "## insert\n",
    "dll.insert_at_head(10)\n",
    "dll.insert_at_head(20)\n",
    "dll.insert_at_head(30)\n",
    "dll.insert_at_head(40)\n",
    "dll.insert_at_head(50)\n",
    "\n",
    "## search\n",
    "dll.search(10)\n",
    "dll.search(100)\n",
    "dll.printDLL()\n",
    "\n",
    "## delete\n",
    "dll.delete(10)\n",
    "dll.delete(50)\n",
    "dll.delete(30)\n",
    "\n",
    "dll.printDLL()\n",
    "dll.delete(30)\n",
    "dll.delete(20)\n",
    "dll.delete(40)\n",
    "\n",
    "dll.printDLL()\n",
    "dll.delete(30)\n",
    "\n",
    "print()\n",
    "\n"
   ]
  },
  {
   "cell_type": "markdown",
   "metadata": {},
   "source": [
    "### Trees\n",
    "* data organized in **hierachical** order, one node connects to multi-nodes, noted as parent or children.\n",
    "* **root** node has no parent (None), only one root exists in a tree\n",
    "* **leaf** nodes have no children\n",
    "* nodes are linked by **edge**"
   ]
  },
  {
   "cell_type": "markdown",
   "metadata": {},
   "source": [
    "## Binary Tree\n",
    "* each tree node has no more than **2** children nodes (including empty tree)\n",
    "    * **Full binary tree** when each node has two children, except for leaf nodes\n",
    "    * **Complete binary tree** when all layers are fully filled, except last layer which should has no gap from left\n",
    "    * **Perfect binary tree** when all except last layer nodes have two children, and all leaf nodes are in one layer\n",
    "    * **Balanced binary tree** when height of the tree is O(Log n) where n is number of nodes\n",
    "        * **AVL tree** maintain O(Log n) height by making sure that the difference between heights of left and right subtrees is 1\n",
    "        * **Red-Black trees** maintain O(Log n) height by making sure that the number of Black nodes on every root to leaf paths are same and there are no adjacent red nodes.\n",
    "    * **degenerate (or pathological) tree** when one child per internal node, tree becomes doubly linked list\n",
    "    \n",
    "For visualizations:\n",
    "http://www.geeksforgeeks.org/binary-tree-set-3-types-of-binary-tree/\n",
    "\n",
    "For properties:\n",
    "http://www.geeksforgeeks.org/binary-tree-set-2-properties/\n",
    "\n",
    "### Tree traversal\n",
    "\n",
    "Due to non-linear arrangement, trees can be traversed in different ways:\n",
    "* **DFS Traversal**:\n",
    "    * Inorder     (left, data, right) 中序遍历\n",
    "    * Preorder   (data, left, right)  前序遍历\n",
    "    * Postorder (left, right, data)   后序遍历\n",
    "* **BFS Traversal**\n",
    "\n",
    "### Naive Tree\n",
    "* no nodes relationship constraint, e.g in binary search tree\n",
    "* construct manually with setters"
   ]
  },
  {
   "cell_type": "code",
   "execution_count": 4,
   "metadata": {},
   "outputs": [
    {
     "name": "stdout",
     "output_type": "stream",
     "text": [
      "@add as root node of the tree!\n",
      "@add as lf-child of a node!\n",
      "@add as rt-child of a node\n",
      "@add as lf-child of a node!\n",
      "@add as rt-child of a node\n",
      "@add as lf-child of a node!\n",
      "@add as rt-child of a node\n",
      "@add as lf-child of a node!\n",
      "@add as rt-child of a node\n",
      "0-\n",
      "1-2-\n",
      "3-4-5-6-\n",
      "7-8-\n",
      "root node, layer 0 with key 0\n",
      "left node, layer 1 with key 1\n",
      "left node, layer 2 with key 3\n",
      "left node, layer 3 with key 7\n",
      "right node, layer 3 with key 8\n",
      "right node, layer 2 with key 4\n",
      "right node, layer 1 with key 2\n",
      "left node, layer 2 with key 5\n",
      "right node, layer 2 with key 6\n",
      "\n",
      "left node, layer 1 with key 1\n",
      "left node, layer 2 with key 3\n",
      "left node, layer 3 with key 7\n",
      "right node, layer 3 with key 8\n",
      "right node, layer 2 with key 4\n",
      "root node, layer 0 with key 0\n",
      "right node, layer 1 with key 2\n",
      "left node, layer 2 with key 5\n",
      "right node, layer 2 with key 6\n",
      "\n",
      "left node, layer 1 with key 1\n",
      "left node, layer 2 with key 3\n",
      "left node, layer 3 with key 7\n",
      "right node, layer 3 with key 8\n",
      "right node, layer 2 with key 4\n",
      "right node, layer 1 with key 2\n",
      "left node, layer 2 with key 5\n",
      "right node, layer 2 with key 6\n",
      "root node, layer 0 with key 0\n",
      "\n"
     ]
    }
   ],
   "source": [
    "from naiveBinaryTree import *\n",
    "nbt = naiveBinaryTree()\n",
    "for ii in range(9):\n",
    "    nbt.insert(ii)\n",
    "nbt.traverse_bfs()\n",
    "nbt.traverse_dfs_preorder(nbt.root)\n",
    "print()\n",
    "nbt.traverse_dfs_inorder(nbt.root)\n",
    "print()\n",
    "nbt.traverse_dfs_postorder(nbt.root)\n",
    "print()"
   ]
  },
  {
   "cell_type": "markdown",
   "metadata": {},
   "source": [
    "#### another way of making tree\n",
    "\n",
    "remember the None for parent pointer"
   ]
  },
  {
   "cell_type": "code",
   "execution_count": 5,
   "metadata": {},
   "outputs": [
    {
     "name": "stdout",
     "output_type": "stream",
     "text": [
      "1-\n",
      "4-2-\n",
      "14-24-12-22-\n",
      "root node, layer 0 with key 1\n",
      "left node, layer 1 with key 4\n",
      "left node, layer 2 with key 14\n",
      "right node, layer 2 with key 24\n",
      "right node, layer 1 with key 2\n",
      "left node, layer 2 with key 12\n",
      "right node, layer 2 with key 22\n",
      "left node, layer 1 with key 4\n",
      "left node, layer 2 with key 14\n",
      "right node, layer 2 with key 24\n",
      "root node, layer 0 with key 1\n",
      "right node, layer 1 with key 2\n",
      "left node, layer 2 with key 12\n",
      "right node, layer 2 with key 22\n",
      "left node, layer 1 with key 4\n",
      "left node, layer 2 with key 14\n",
      "right node, layer 2 with key 24\n",
      "right node, layer 1 with key 2\n",
      "left node, layer 2 with key 12\n",
      "right node, layer 2 with key 22\n",
      "root node, layer 0 with key 1\n"
     ]
    }
   ],
   "source": [
    "root = treeNode(1, None, treeNode(4, None, treeNode(14), treeNode(24)), treeNode(2, None, treeNode(12), treeNode(22)))\n",
    "tree = naiveBinaryTree(root)\n",
    "tree.traverse_bfs()\n",
    "tree.traverse_dfs_preorder(tree.root)\n",
    "tree.traverse_dfs_inorder(tree.root)\n",
    "tree.traverse_dfs_postorder(tree.root)"
   ]
  },
  {
   "cell_type": "markdown",
   "metadata": {},
   "source": [
    "### Binary Search Tree\n",
    "criteria:\n",
    "* is binary tree\n",
    "* left < cur < right\n",
    "* no duplicate keys"
   ]
  },
  {
   "cell_type": "markdown",
   "metadata": {},
   "source": [
    "#### toggle print"
   ]
  },
  {
   "cell_type": "code",
   "execution_count": 17,
   "metadata": {},
   "outputs": [],
   "source": [
    "import sys, os\n",
    "# Disable\n",
    "def blockPrint():\n",
    "    sys.stdout = open(os.devnull, 'w')\n",
    "# Restore\n",
    "def enablePrint():\n",
    "    sys.stdout = sys.__stdout__"
   ]
  },
  {
   "cell_type": "code",
   "execution_count": 18,
   "metadata": {},
   "outputs": [],
   "source": [
    "from bst import *\n",
    "import random\n",
    "blockPrint() ## disable print\n",
    "bstree = bst()\n",
    "for _ in range(100):\n",
    "    bstree.insert(random.randint(0,100))"
   ]
  },
  {
   "cell_type": "markdown",
   "metadata": {},
   "source": [
    "### Binary Search Tree"
   ]
  },
  {
   "cell_type": "code",
   "execution_count": 19,
   "metadata": {
    "scrolled": false
   },
   "outputs": [],
   "source": [
    "from bstree import *\n",
    "import random\n",
    "bst = bsttree()\n",
    "for _ in range(1000):\n",
    "    bst.insert(random.randint(0,1000))\n",
    "\n",
    "## enable print\n",
    "enablePrint()\n",
    "for _ in range(1000):\n",
    "    key = random.randint(0, 1000)\n",
    "    bst.delete(key)\n",
    "    if not bst.is_valid_bst():\n",
    "        bst.root.display()\n",
    "        print('delete error')\n",
    "        break"
   ]
  },
  {
   "cell_type": "code",
   "execution_count": null,
   "metadata": {},
   "outputs": [],
   "source": []
  },
  {
   "cell_type": "code",
   "execution_count": null,
   "metadata": {},
   "outputs": [],
   "source": []
  }
 ],
 "metadata": {
  "anaconda-cloud": {},
  "kernelspec": {
   "display_name": "Python 3",
   "language": "python",
   "name": "python3"
  },
  "language_info": {
   "codemirror_mode": {
    "name": "ipython",
    "version": 3
   },
   "file_extension": ".py",
   "mimetype": "text/x-python",
   "name": "python",
   "nbconvert_exporter": "python",
   "pygments_lexer": "ipython3",
   "version": "3.6.7"
  }
 },
 "nbformat": 4,
 "nbformat_minor": 2
}
