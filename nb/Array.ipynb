{
 "cells": [
  {
   "cell_type": "markdown",
   "metadata": {},
   "source": [
    "## Array / List\n",
    "\n",
    "- data structure used to store homogeneous elements at contiguous memory locations.\n",
    "\n",
    "\n",
    "Pros:\n",
    "- Fast Random Access O(1)\n",
    "\n",
    "Cons:\n",
    "- Pre-defined static size\n",
    "- Strict continuous memory allocation\n",
    "- Expensive for edit: insert, delete, append\n",
    "\n",
    "Time Complexity:\n",
    "- index  O(1)\n",
    "- search O(n)\n",
    "- insert O(n)\n",
    "- delete O(n)"
   ]
  },
  {
   "cell_type": "code",
   "execution_count": 2,
   "metadata": {},
   "outputs": [
    {
     "name": "stdout",
     "output_type": "stream",
     "text": [
      "@insert 3 to position 4\n",
      "[1, 2, 3, 4]\n",
      "@find and delete 2 at position 1\n",
      "[1, 3, 4]\n"
     ]
    }
   ],
   "source": [
    "from Array import *\n",
    "A = array([1,2,3])\n",
    "A.insert(4,3)\n",
    "A.printArray()\n",
    "A.delete(2)\n",
    "A.printArray()"
   ]
  },
  {
   "cell_type": "code",
   "execution_count": null,
   "metadata": {},
   "outputs": [],
   "source": []
  }
 ],
 "metadata": {
  "kernelspec": {
   "display_name": "Python 3",
   "language": "python",
   "name": "python3"
  },
  "language_info": {
   "codemirror_mode": {
    "name": "ipython",
    "version": 3
   },
   "file_extension": ".py",
   "mimetype": "text/x-python",
   "name": "python",
   "nbconvert_exporter": "python",
   "pygments_lexer": "ipython3",
   "version": "3.6.7"
  }
 },
 "nbformat": 4,
 "nbformat_minor": 2
}
