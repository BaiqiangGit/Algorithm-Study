{
 "cells": [
  {
   "cell_type": "markdown",
   "metadata": {},
   "source": [
    "### Binary Heap\n",
    "https://en.wikipedia.org/wiki/Binary_heap\n",
    "\n",
    "#### Definition\n",
    "* Shape property (same to complete binary tree)\n",
    "    * all layers exceppt last should be full\n",
    "    * last layer filled from left, no gap between nodes\n",
    "    * as it's complete, binary heap can be implemented as array\n",
    "        * 'abstract' implementation of ADT binary tree \n",
    "* Heap property: \n",
    "    * max heap: parent.key ≥ child.key\n",
    "    * min heap: parent.key ≤ child.key\n",
    "    \n",
    "#### Properties\n",
    "* make root the second item of array for convenience, then for the k-th element of array:\n",
    "    * its left child is at index 2*k\n",
    "    * its right child is at index (2*k + 1)\n",
    "    * its parent is at index k//2 \n",
    "    \n",
    "#### Applications\n",
    "* heapsort O ~ nlog(n)\n",
    "* Priority Queue\n",
    "* others:\n",
    "    * K’th Largest Element in an array\n",
    "    * Sort an almost sorted array\n",
    "    * Merge K Sorted Arrays\n",
    "    \n",
    "#### implementation\n"
   ]
  },
  {
   "cell_type": "code",
   "execution_count": 1,
   "metadata": {},
   "outputs": [],
   "source": [
    "## add path\n",
    "import sys\n",
    "sys.path.insert(0, '../ds/')\n",
    "from minBinaryHeap import *"
   ]
  },
  {
   "cell_type": "markdown",
   "metadata": {},
   "source": [
    "### min binary heap"
   ]
  },
  {
   "cell_type": "code",
   "execution_count": 2,
   "metadata": {},
   "outputs": [
    {
     "name": "stdout",
     "output_type": "stream",
     "text": [
      "[0, 12, 20, 20, 25, 25, 30, 30]\n",
      "[0, 20, 20, 30, 25, 25, 30]\n",
      "[0, 20, 25, 30, 25, 30]\n",
      "[0, 25, 30, 30, 25]\n",
      "[0, 25, 30, 30]\n",
      "[0, 30, 30]\n",
      "[0, 30]\n",
      "[0]\n",
      "@empty binay heap!\n",
      "[0]\n"
     ]
    }
   ],
   "source": [
    "minhp = minBinaryHeap()\n",
    "minhp.insert(12)\n",
    "minhp.insert(20)\n",
    "minhp.insert(30)\n",
    "minhp.insert(25)\n",
    "minhp.insert(12)\n",
    "minhp.insert(20)\n",
    "minhp.insert(30)\n",
    "minhp.insert(25)\n",
    "minhp.delete()\n",
    "print(minhp.heap)\n",
    "minhp.delete()\n",
    "print(minhp.heap)\n",
    "minhp.delete()\n",
    "print(minhp.heap)\n",
    "minhp.delete()\n",
    "print(minhp.heap)\n",
    "minhp.delete()\n",
    "print(minhp.heap)\n",
    "minhp.delete()\n",
    "print(minhp.heap)\n",
    "minhp.delete()\n",
    "print(minhp.heap)\n",
    "minhp.delete()\n",
    "print(minhp.heap)\n",
    "minhp.delete()\n",
    "print(minhp.heap)"
   ]
  },
  {
   "cell_type": "code",
   "execution_count": 3,
   "metadata": {},
   "outputs": [],
   "source": [
    "minhp = minBinaryHeap()\n",
    "minhp.heapFromList([1,22,13,34,15,26,37,17,18,28,10])"
   ]
  },
  {
   "cell_type": "markdown",
   "metadata": {},
   "source": [
    "### max binary heap"
   ]
  },
  {
   "cell_type": "code",
   "execution_count": 4,
   "metadata": {},
   "outputs": [
    {
     "data": {
      "text/plain": [
       "[0, 30, 25, 30, 25, 12, 20, 20, 12]"
      ]
     },
     "execution_count": 4,
     "metadata": {},
     "output_type": "execute_result"
    }
   ],
   "source": [
    "from maxBinaryHeap import *\n",
    "maxhp = maxBinaryHeap()\n",
    "maxhp.insert(12)\n",
    "maxhp.insert(20)\n",
    "maxhp.insert(30)\n",
    "maxhp.insert(25)\n",
    "maxhp.insert(12)\n",
    "maxhp.insert(20)\n",
    "maxhp.insert(30)\n",
    "maxhp.insert(25)\n",
    "maxhp.heap"
   ]
  },
  {
   "cell_type": "code",
   "execution_count": 10,
   "metadata": {},
   "outputs": [
    {
     "data": {
      "text/plain": [
       "[0, 25, 25, 20, 12, 12, 20]"
      ]
     },
     "execution_count": 10,
     "metadata": {},
     "output_type": "execute_result"
    }
   ],
   "source": [
    "maxHeap = maxBinaryHeap()\n",
    "maxHeap.heapFromList([0, 25, 20, 25, 12, 20])\n",
    "maxhp.delete()\n",
    "maxhp.heap"
   ]
  },
  {
   "cell_type": "code",
   "execution_count": null,
   "metadata": {},
   "outputs": [],
   "source": []
  }
 ],
 "metadata": {
  "kernelspec": {
   "display_name": "Python 3",
   "language": "python",
   "name": "python3"
  },
  "language_info": {
   "codemirror_mode": {
    "name": "ipython",
    "version": 3
   },
   "file_extension": ".py",
   "mimetype": "text/x-python",
   "name": "python",
   "nbconvert_exporter": "python",
   "pygments_lexer": "ipython3",
   "version": "3.6.7"
  }
 },
 "nbformat": 4,
 "nbformat_minor": 2
}
