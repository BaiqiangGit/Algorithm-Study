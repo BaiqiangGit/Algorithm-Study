{
 "cells": [
  {
   "cell_type": "markdown",
   "metadata": {},
   "source": [
    "### Binary Heap\n",
    "semi-ordered tree based data structure\n",
    "https://en.wikipedia.org/wiki/Binary_heap\n",
    "* order exist hierachically, top-to-bottem is fixed\n",
    "* no order laterally, left-to-right order is arbitrary\n",
    "\n",
    "#### Definition\n",
    "* Shape property (same to complete binary tree)\n",
    "    * all layers exceppt last should be full\n",
    "    * last layer filled from left, no gap between nodes\n",
    "        * that is why swarping the root and last first to delete, to maintain this property\n",
    "    * as it's complete, binary heap can be implemented as array\n",
    "        * 'abstract' implementation of ADT binary tree \n",
    "* Heap property: \n",
    "    * max heap: parent.key ≥ child.key, largest key on top\n",
    "    * min heap: parent.key ≤ child.key, smallest key on top\n",
    "    \n",
    "#### Properties\n",
    "* make root the second item of array for convenience, then for the k-th element of array:\n",
    "    * its left child is at index 2*k\n",
    "    * its right child is at index (2*k + 1)\n",
    "    * its parent is at index k//2 \n",
    "    \n",
    "#### Applications\n",
    "* heapsort O ~ nlog(n)\n",
    "* Priority Queue\n",
    "* others:\n",
    "    * K’th Largest Element in an array\n",
    "    * Sort an almost sorted array\n",
    "    * Merge K Sorted Arrays\n",
    "    \n",
    "### Implementation\n"
   ]
  },
  {
   "cell_type": "code",
   "execution_count": 1,
   "metadata": {},
   "outputs": [],
   "source": [
    "## add path\n",
    "import sys\n",
    "sys.path.insert(0, '../ds/')\n",
    "from minBinaryHeap import *"
   ]
  },
  {
   "cell_type": "markdown",
   "metadata": {},
   "source": [
    "### min binary heap"
   ]
  },
  {
   "cell_type": "code",
   "execution_count": 17,
   "metadata": {},
   "outputs": [
    {
     "name": "stdout",
     "output_type": "stream",
     "text": [
      "[0, 12, 20, 20, 12, 25, 30, 30, 25, 20, 30, 25]\n",
      "deleted: 12\n",
      "[0, 20, 20, 25, 12, 25, 30, 30, 25, 20, 30]\n",
      "deleted: 20\n",
      "[0, 20, 12, 25, 20, 25, 30, 30, 25, 30]\n"
     ]
    }
   ],
   "source": [
    "minhp = minBinaryHeap()\n",
    "minhp.heapFromList([12, 20, 20, 25, 25, 30, 30])\n",
    "minhp.insert(12)\n",
    "minhp.insert(20)\n",
    "minhp.insert(30)\n",
    "minhp.insert(25)\n",
    "print(minhp.heap)\n",
    "print('deleted:', minhp.delete())\n",
    "print(minhp.heap)\n",
    "print('deleted:', minhp.delete())\n",
    "print(minhp.heap)"
   ]
  },
  {
   "cell_type": "markdown",
   "metadata": {},
   "source": [
    "### max binary heap"
   ]
  },
  {
   "cell_type": "code",
   "execution_count": 18,
   "metadata": {},
   "outputs": [
    {
     "name": "stdout",
     "output_type": "stream",
     "text": [
      "[0, 40, 25, 30, 25, 25, 25, 12, 0, 20, 12, 20, 20, 20]\n",
      "deleted: 40\n",
      "[0, 30, 25, 25, 25, 25, 20, 12, 0, 20, 12, 20, 20]\n",
      "deleted: 30\n",
      "[0, 25, 25, 20, 25, 25, 20, 12, 0, 20, 12, 20]\n"
     ]
    }
   ],
   "source": [
    "from maxBinaryHeap import *\n",
    "maxhp = maxBinaryHeap()\n",
    "maxhp.heapFromList([0, 25, 20, 25, 12, 20])\n",
    "maxhp.insert(12)\n",
    "maxhp.insert(20)\n",
    "maxhp.insert(30)\n",
    "maxhp.insert(25)\n",
    "maxhp.insert(20)\n",
    "maxhp.insert(40)\n",
    "maxhp.insert(25)\n",
    "print(maxhp.heap)\n",
    "print('deleted:', maxhp.delete())\n",
    "print(maxhp.heap)\n",
    "print('deleted:', maxhp.delete())\n",
    "print(maxhp.heap)"
   ]
  },
  {
   "cell_type": "markdown",
   "metadata": {},
   "source": [
    "### min heap sort"
   ]
  },
  {
   "cell_type": "code",
   "execution_count": 45,
   "metadata": {},
   "outputs": [],
   "source": [
    "def minHeapSort(ls):\n",
    "    \n",
    "    ## helper functions\n",
    "    def minChild(ls, index):\n",
    "        if index * 2 + 1 <= len(ls) - 1 and ls[index * 2 + 1] < ls[index * 2]:\n",
    "            return index *2 + 1\n",
    "        else:\n",
    "            return index * 2 \n",
    "        \n",
    "    def swimDown(ls, index):\n",
    "        left_child_index = index * 2        \n",
    "        while left_child_index <= len(ls) - 1:\n",
    "            min_child_index = minChild(ls, index)\n",
    "            if ls[min_child_index] < ls[index]:\n",
    "                ls[min_child_index], ls[index] = ls[index], ls[min_child_index]\n",
    "                index = min_child_index\n",
    "                left_child_index = index * 2 \n",
    "            else:\n",
    "                return\n",
    "\n",
    "    ## heap function        \n",
    "    def heapify(ls):\n",
    "        start = len(ls)//2\n",
    "        while start > 0:\n",
    "            swimDown(ls, start)\n",
    "            start -= 1\n",
    "    \n",
    "    ## load data, get size\n",
    "    ls = [0] + ls\n",
    "    ls_length = len(ls)\n",
    "    \n",
    "    ## inplace heapify\n",
    "    heapify(ls)\n",
    "    \n",
    "    ## heap sort, pop the last\n",
    "    while len(ls) > 1:\n",
    "        ls[1], ls[-1] = ls[-1], ls[1]\n",
    "        yield ls.pop()\n",
    "        swimDown(ls,1)"
   ]
  },
  {
   "cell_type": "code",
   "execution_count": 48,
   "metadata": {},
   "outputs": [
    {
     "data": {
      "text/plain": [
       "[2, 2, 3, 4, 5, 12, 13, 40, 45]"
      ]
     },
     "execution_count": 48,
     "metadata": {},
     "output_type": "execute_result"
    }
   ],
   "source": [
    "ls = [12, 2, 4, 5, 2, 3, 13, 40, 45]\n",
    "[f for f in minHeapSort(ls)]"
   ]
  },
  {
   "cell_type": "code",
   "execution_count": null,
   "metadata": {},
   "outputs": [],
   "source": []
  }
 ],
 "metadata": {
  "anaconda-cloud": {},
  "kernelspec": {
   "display_name": "Python 3",
   "language": "python",
   "name": "python3"
  },
  "language_info": {
   "codemirror_mode": {
    "name": "ipython",
    "version": 3
   },
   "file_extension": ".py",
   "mimetype": "text/x-python",
   "name": "python",
   "nbconvert_exporter": "python",
   "pygments_lexer": "ipython3",
   "version": "3.6.7"
  }
 },
 "nbformat": 4,
 "nbformat_minor": 2
}
