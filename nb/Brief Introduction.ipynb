{
 "cells": [
  {
   "cell_type": "markdown",
   "metadata": {},
   "source": [
    "### why use data structure\n",
    "\n",
    "- Particular structure make particular calculation more efficiently."
   ]
  },
  {
   "cell_type": "markdown",
   "metadata": {},
   "source": [
    "### what are data structures\n",
    "\n",
    "According to the way they are accessed/indexed:\n",
    "#### Linear Data Structures\n",
    "- data elements are accessed in sequential order (not necessarily stored in linear sequence)\n",
    "    - list\n",
    "    - linked list\n",
    "    - queue\n",
    "    - stack\n",
    "    \n",
    "#### Non-linear Data Structures\n",
    "- data elements are accessed in non-sequential order\n",
    "    - tree\n",
    "    - heap\n",
    "    - graph\n",
    "\n",
    "\n",
    "According to the way they are defined:\n",
    "#### Primitive Data Type\n",
    "- fixed implementation\n",
    "    - int, str, char, float\n",
    "    - Array,list\n",
    "\n",
    "#### Abstract Data Type\n",
    "- defined in terms of the operations on it, implementation may vary\n",
    "    - Linked Lists \n",
    "    - Stacks \n",
    "    - Queues \n",
    "    - Priority Queues\n",
    "    - Binary Trees\n",
    "    - Dictionaries\n",
    "    - Disjoint Sets (Union and Find)\n",
    "    - Hash Tables\n",
    "    - Graphs"
   ]
  },
  {
   "cell_type": "code",
   "execution_count": null,
   "metadata": {},
   "outputs": [],
   "source": []
  }
 ],
 "metadata": {
  "anaconda-cloud": {},
  "kernelspec": {
   "display_name": "Python 3",
   "language": "python",
   "name": "python3"
  },
  "language_info": {
   "codemirror_mode": {
    "name": "ipython",
    "version": 3
   },
   "file_extension": ".py",
   "mimetype": "text/x-python",
   "name": "python",
   "nbconvert_exporter": "python",
   "pygments_lexer": "ipython3",
   "version": "3.6.7"
  }
 },
 "nbformat": 4,
 "nbformat_minor": 2
}
