{
 "cells": [
  {
   "cell_type": "markdown",
   "metadata": {},
   "source": [
    "### Graph\n",
    "* A non-linear data structure consists of finite set of (1) **vertices (nodes)**, and (2) **edges (arcs)** connecting a pair of vertices (u, v)\n",
    "\n",
    "* Terminology:\n",
    "    * **adjacent**: vertices that share an edge (connected)\n",
    "    * **undirected graph**: (a,b) is the same as (b,a)\n",
    "    * **directed graph**: (a,b) is not the same as (b,a)\n",
    "    * **connected graph**: a graph where a path exists between every pair of vertices\n",
    "    * **complete graph**: a graph where an edge exists from every vertex to all of the other vertices.\n",
    "\n",
    "### Representations\n",
    "* **Adjacency Matrix**: A two-dimensional matrix, in which the rows represent source vertices and columns represent destination vertices. Vertices data is stored elsewhere.\n",
    "* **Adjacency List**: Vertices are stored as records or objects, and every vertex stores a list of adjacent vertices.\n",
    "\n",
    "### Implementation"
   ]
  },
  {
   "cell_type": "code",
   "execution_count": 25,
   "metadata": {},
   "outputs": [
    {
     "name": "stdout",
     "output_type": "stream",
     "text": [
      "------------------------------\n",
      "now, print graph:\n",
      "0--->1 0--->4\n",
      "4--->1 4--->3\n",
      "1--->0 1--->4 1--->3 1--->2\n",
      "2--->3\n",
      "3--->4\n",
      "------------------------------\n",
      "now, print bfs:\n",
      "3 \n",
      "\n",
      "------------------------------\n",
      "now, print dfs:\n",
      "3 "
     ]
    }
   ],
   "source": [
    "import sys\n",
    "sys.path.insert(0, '../ds/')\n",
    "from graph import *\n",
    "\n",
    "g = directed_graph()\n",
    "g.addEdge(0, 1) \n",
    "g.addEdge(0, 2) \n",
    "g.addEdge(1, 2) \n",
    "g.addEdge(2, 0) \n",
    "g.addEdge(2, 3) \n",
    "g.addEdge(3, 3) \n",
    "\n",
    "print('-' * 30)\n",
    "print('now, print graph:')\n",
    "print(myG)\n",
    "\n",
    "print('-' * 30)\n",
    "print('now, print bfs:')\n",
    "g.breadFirst_baiqiang(3)\n",
    "\n",
    "print('-' * 30)\n",
    "print('now, print dfs:')\n",
    "g.DFS(3)"
   ]
  },
  {
   "cell_type": "code",
   "execution_count": 22,
   "metadata": {},
   "outputs": [
    {
     "name": "stdout",
     "output_type": "stream",
     "text": [
      "1\n",
      "2\n",
      "0\n",
      "3\n"
     ]
    }
   ],
   "source": [
    "# Python program to print DFS traversal from a \n",
    "# given given graph \n",
    "from collections import defaultdict \n",
    "\n",
    "# This class represents a directed graph using \n",
    "# adjacency list representation \n",
    "class Graph: \n",
    "\n",
    "\t# Constructor \n",
    "\tdef __init__(self): \n",
    "\n",
    "\t\t# default dictionary to store graph \n",
    "\t\tself.graph = defaultdict(list) \n",
    "\n",
    "\t# function to add an edge to graph \n",
    "\tdef addEdge(self,u,v): \n",
    "\t\tself.graph[u].append(v) \n",
    "\n",
    "\t# A function used by DFS \n",
    "\tdef DFSUtil(self,v,visited): \n",
    "\n",
    "\t\t# Mark the current node as visited and print it \n",
    "\t\tvisited[v]= True\n",
    "\t\tprint(v) \n",
    "\n",
    "\t\t# Recur for all the vertices adjacent to this vertex \n",
    "\t\tfor i in self.graph[v]: \n",
    "\t\t\tif visited[i] == False: \n",
    "\t\t\t\tself.DFSUtil(i, visited) \n",
    "\n",
    "\n",
    "\t# The function to do DFS traversal. It uses \n",
    "\t# recursive DFSUtil() \n",
    "\tdef DFS(self,v): \n",
    "\n",
    "\t\t# Mark all the vertices as not visited \n",
    "\t\tvisited = [False]*(len(self.graph)) \n",
    "\n",
    "\t\t# Call the recursive helper function to print \n",
    "\t\t# DFS traversal \n",
    "\t\tself.DFSUtil(v,visited) \n",
    "\n",
    "\n",
    "# Driver code \n",
    "# Create a graph given in the above diagram \n",
    "g = Graph() \n",
    "g.addEdge(0, 1) \n",
    "g.addEdge(0, 2) \n",
    "g.addEdge(1, 2) \n",
    "g.addEdge(2, 0) \n",
    "g.addEdge(2, 3) \n",
    "g.addEdge(3, 3) \n",
    "\n",
    "g.DFS(1) \n",
    "\n",
    "# This code is contributed by Neelam Yadav \n"
   ]
  },
  {
   "cell_type": "code",
   "execution_count": null,
   "metadata": {},
   "outputs": [],
   "source": []
  }
 ],
 "metadata": {
  "anaconda-cloud": {},
  "kernelspec": {
   "display_name": "Python 3",
   "language": "python",
   "name": "python3"
  },
  "language_info": {
   "codemirror_mode": {
    "name": "ipython",
    "version": 3
   },
   "file_extension": ".py",
   "mimetype": "text/x-python",
   "name": "python",
   "nbconvert_exporter": "python",
   "pygments_lexer": "ipython3",
   "version": "3.6.7"
  }
 },
 "nbformat": 4,
 "nbformat_minor": 2
}
