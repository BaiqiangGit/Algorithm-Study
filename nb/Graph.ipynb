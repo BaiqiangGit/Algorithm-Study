{
 "cells": [
  {
   "cell_type": "markdown",
   "metadata": {},
   "source": [
    "### Graph\n",
    "* A data structure consists of finite set of (1) **vertices (nodes)**, and (2) **edges** in the form (u, v)\n",
    "\n",
    "### Representations\n",
    "* Adjacency Matrix: A two-dimensional matrix, in which the rows represent source vertices and columns represent destination vertices. Vertices data is stored elsewhere.\n",
    "* Adjacency List: Vertices are stored as records or objects, and every vertex stores a list of adjacent vertices.\n",
    "\n",
    "### Implementation"
   ]
  },
  {
   "cell_type": "code",
   "execution_count": 1,
   "metadata": {},
   "outputs": [],
   "source": [
    "import sys\n",
    "sys.path.insert(0, '../ds/')\n",
    "from graph import *"
   ]
  },
  {
   "cell_type": "code",
   "execution_count": 2,
   "metadata": {},
   "outputs": [
    {
     "name": "stdout",
     "output_type": "stream",
     "text": [
      "0--->1 0--->4\n",
      "4--->1 4--->3\n",
      "1--->0 1--->4 1--->3 1--->2\n",
      "2--->3\n",
      "3--->4\n"
     ]
    }
   ],
   "source": [
    "myG = graph()\n",
    "myG.addEdge(0, 1)\n",
    "myG.addEdge(0, 4)\n",
    "myG.addEdge(4, 1)\n",
    "myG.addEdge(4, 3)\n",
    "myG.addEdge(1, 0)\n",
    "myG.addEdge(1, 4)\n",
    "myG.addEdge(1, 3)\n",
    "myG.addEdge(1, 2)\n",
    "myG.addEdge(2, 3)\n",
    "myG.addEdge(3, 4)\n",
    "print(myG)"
   ]
  },
  {
   "cell_type": "code",
   "execution_count": null,
   "metadata": {},
   "outputs": [],
   "source": []
  }
 ],
 "metadata": {
  "kernelspec": {
   "display_name": "Python 3",
   "language": "python",
   "name": "python3"
  },
  "language_info": {
   "codemirror_mode": {
    "name": "ipython",
    "version": 3
   },
   "file_extension": ".py",
   "mimetype": "text/x-python",
   "name": "python",
   "nbconvert_exporter": "python",
   "pygments_lexer": "ipython3",
   "version": "3.6.7"
  }
 },
 "nbformat": 4,
 "nbformat_minor": 2
}
