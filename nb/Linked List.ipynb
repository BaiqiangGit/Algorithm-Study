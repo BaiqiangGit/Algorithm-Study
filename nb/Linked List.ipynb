{
 "cells": [
  {
   "cell_type": "markdown",
   "metadata": {},
   "source": [
    "### Singly Linked List\n",
    "- sequential data arrangement using pointers to indicate the order, not bounded to continuous physical memory locations. \n",
    "\n",
    "Pros:\n",
    "- Dynamic size\n",
    "- Memory efficient Insert/Delete\n",
    "- Use fractional memory\n",
    "\n",
    "Cons:\n",
    "- no random access, only sequential search possible\n",
    "- spend extra memory on pointers\n",
    "\n",
    "Complexity:\n",
    "* Insertion: O(1)\n",
    "    * Insertion at beginning (or front): O(1)\n",
    "    * Insertion at End: O(n)\n",
    "* Deletion: O(1)\n",
    "* Indexing: O(n)\n",
    "* Searching: O(n)\n",
    "* Reverse : O(n)"
   ]
  },
  {
   "cell_type": "code",
   "execution_count": null,
   "metadata": {},
   "outputs": [],
   "source": [
    "## add path\n",
    "import sys\n",
    "sys.path.insert(0, '../ds/')"
   ]
  },
  {
   "cell_type": "code",
   "execution_count": 1,
   "metadata": {},
   "outputs": [
    {
     "name": "stdout",
     "output_type": "stream",
     "text": [
      "@insert at tail to empty sll!\n",
      "@insert at head of sll!\n",
      "@insert at tail of sll!\n",
      "@insert at head of sll!\n",
      "(head)0 -->10 -->20 -->30 -->\n",
      "@finished printing sll of 4 nodes\n",
      "@finished reversing sll!\n",
      "(head)30 -->20 -->10 -->0 -->\n",
      "@finished printing sll of 4 nodes\n",
      "\n"
     ]
    }
   ],
   "source": [
    "from singlyLinkedList import *\n",
    "lls = singlyLinkedList()\n",
    "lls.insert_at_tail(20)\n",
    "lls.insert_at_head(10)\n",
    "lls.insert_at_tail(30)\n",
    "lls.insert_at_head(0)\n",
    "lls.printSLL()\n",
    "lls.reverse()\n",
    "lls.printSLL()\n",
    "print()"
   ]
  },
  {
   "cell_type": "markdown",
   "metadata": {},
   "source": [
    "### Doubly Linked List\n",
    "\n",
    "each node contains data, and one pointer to pre, one pointer for nxt\n",
    "\n",
    "class methods:\n",
    "- print\n",
    "- length\n",
    "- insert\n",
    "- delete"
   ]
  },
  {
   "cell_type": "code",
   "execution_count": 2,
   "metadata": {},
   "outputs": [
    {
     "name": "stdout",
     "output_type": "stream",
     "text": [
      "@insert node to empty dll!\n",
      "@insert node at head of dll!\n",
      "@insert node at head of dll!\n",
      "@insert node at head of dll!\n",
      "@insert node at head of dll!\n",
      "@found node with value 10 in dll!\n",
      "@no node found with value 100!\n",
      "@print dll from head!\n",
      "(root)50 <==>40 <==>30 <==>20 <==>10\n",
      "@finished printing 5 nodes of dll!\n",
      "@delete 1 node with value 10 at tail of dll!\n",
      "@delete 1 node with value 50 at head in dll!\n",
      "@delete 1 node with value 30 inside of dll!\n",
      "@print dll from head!\n",
      "(root)40 <==>20\n",
      "@finished printing 2 nodes of dll!\n",
      "@no matched node with value 30 in dll to delete!\n",
      "@delete 1 node with value 20 at tail of dll!\n",
      "@delete 1 node with value 40, now dll is empty!\n",
      "@print dll from head!\n",
      "@print empty dll!\n",
      "@finished printing 0 nodes of dll!\n",
      "@not able to delete node in empty dll!\n",
      "\n"
     ]
    }
   ],
   "source": [
    "from doublyLinkedList import *\n",
    "dll = doublyLinkedList()\n",
    "\n",
    "## insert\n",
    "dll.insert_at_head(10)\n",
    "dll.insert_at_head(20)\n",
    "dll.insert_at_head(30)\n",
    "dll.insert_at_head(40)\n",
    "dll.insert_at_head(50)\n",
    "\n",
    "## search\n",
    "dll.search(10)\n",
    "dll.search(100)\n",
    "dll.printDLL()\n",
    "\n",
    "## delete\n",
    "dll.delete(10)\n",
    "dll.delete(50)\n",
    "dll.delete(30)\n",
    "\n",
    "dll.printDLL()\n",
    "dll.delete(30)\n",
    "dll.delete(20)\n",
    "dll.delete(40)\n",
    "\n",
    "dll.printDLL()\n",
    "dll.delete(30)\n",
    "\n",
    "print()\n",
    "\n"
   ]
  },
  {
   "cell_type": "code",
   "execution_count": null,
   "metadata": {},
   "outputs": [],
   "source": []
  }
 ],
 "metadata": {
  "anaconda-cloud": {},
  "kernelspec": {
   "display_name": "Python 3",
   "language": "python",
   "name": "python3"
  },
  "language_info": {
   "codemirror_mode": {
    "name": "ipython",
    "version": 3
   },
   "file_extension": ".py",
   "mimetype": "text/x-python",
   "name": "python",
   "nbconvert_exporter": "python",
   "pygments_lexer": "ipython3",
   "version": "3.6.7"
  }
 },
 "nbformat": 4,
 "nbformat_minor": 2
}
