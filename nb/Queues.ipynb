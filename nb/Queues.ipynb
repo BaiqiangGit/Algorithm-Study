{
 "cells": [
  {
   "cell_type": "markdown",
   "metadata": {},
   "source": [
    "### 1. General \n",
    "#### What's Queue?\n",
    "* Sequential data structure (ordered list)：\n",
    "    * Insert at end (***rear-right end of list***)\n",
    "    * Delete at beginning (***front-left end of list***)\n",
    "    * First In First Out (***FIFO***)\n",
    "        * right in : append()\n",
    "        * left out : pop(0)\n",
    "\n",
    "#### Application\n",
    "* when tasks should be addressed in FIFO order\n",
    "    * multiple printing tasks in same printer\n",
    "    * multiple tasks with same cpu\n",
    "    \n",
    "### 2. Linear Queue"
   ]
  },
  {
   "cell_type": "code",
   "execution_count": 1,
   "metadata": {},
   "outputs": [
    {
     "name": "stdout",
     "output_type": "stream",
     "text": [
      "@queue is already full, enqueue fail!\n",
      "@queue is already full, enqueue fail!\n",
      "0 1 2 3 4 5 6 7 8 9 10 11 12 13 14 15 16 17 18 19\n",
      "Queue size: 20\n",
      "0 1 2 3 4 5 6 7 8 9 10 11 12 13 14 15 16 17 18\n",
      "Queue size: 19\n"
     ]
    }
   ],
   "source": [
    "## add path\n",
    "import sys\n",
    "sys.path.insert(0, '../ds/')\n",
    "from Queue import Queue\n",
    "\n",
    "## vanilla Queue\n",
    "mq = Queue(20)\n",
    "for i in range(22): mq.enqueue(i)\n",
    "print(mq)\n",
    "print('Queue size:',mq.size)\n",
    "mq.dequeue()\n",
    "print(mq)\n",
    "print('Queue size:',mq.size)"
   ]
  },
  {
   "cell_type": "markdown",
   "metadata": {},
   "source": [
    "### 3. Doule Ended Queue (Deque)\n",
    "\n",
    "* support insertion and deletion at ***both*** ends of the queue"
   ]
  },
  {
   "cell_type": "code",
   "execution_count": 2,
   "metadata": {},
   "outputs": [
    {
     "name": "stdout",
     "output_type": "stream",
     "text": [
      "--------------------\n",
      "Insert:\n",
      "9 2\n",
      "8 18 9 2 3\n",
      "--------------------\n",
      "Delete:\n",
      "18 9 2 3\n",
      "18 9 2\n"
     ]
    }
   ],
   "source": [
    "from Deque import *\n",
    "\n",
    "print('-' * 20)\n",
    "print('Insert:')\n",
    "dq = deque(10)\n",
    "dq.insertFront(2)\n",
    "dq.insertRear(9)\n",
    "print(dq)\n",
    "dq.insertRear(18)\n",
    "dq.insertFront(3)\n",
    "dq.insertRear(8)\n",
    "print(dq)\n",
    "\n",
    "print('-' * 20)\n",
    "print('Delete:')\n",
    "dq.deleteRear()\n",
    "print(dq)\n",
    "dq.deleteFront()\n",
    "print(dq)"
   ]
  },
  {
   "cell_type": "markdown",
   "metadata": {},
   "source": [
    "### 4. Circular Queue (ring buffer)\n",
    "* fixed buffer size (max queue length), effective queue size <= buffer size\n",
    "* buffer is circularly connected, end connect to front (the next element of end is the front element)\n",
    "* maintain two pointers to define the queue in circular buffer: [front, rear] in circular fashion, e.g. [3, 5], [5, 3]\n",
    "* references:\n",
    "    * https://www.pythoncentral.io/circular-queue/\n",
    "    * https://www.geeksforgeeks.org/circular-queue-set-1-introduction-array-implementation/"
   ]
  },
  {
   "cell_type": "code",
   "execution_count": 5,
   "metadata": {},
   "outputs": [
    {
     "name": "stdout",
     "output_type": "stream",
     "text": [
      "Now, init queue:\n",
      "cq.queue, cq.front, cq.rear : [None, None, None, None, None] -1 -1\n",
      "cq: \n",
      "--------------------------------------------------\n",
      "Now, enqueue:\n",
      "cq: \n",
      "cq: 0\n",
      "cq: 0 1\n",
      "cq: 0 1 2\n",
      "cq: 0 1 2 3\n",
      "cq: 0 1 2 3 4\n",
      "@circular queue is full, enqueue failed!\n",
      "cq.queue, cq.front, cq.rear : [0, 1, 2, 3, 4] 0 4\n",
      "cq: 0 1 2 3 4\n",
      "--------------------------------------------------\n",
      "Now, dequeue:\n",
      "cq: 0 1 2 3 4\n",
      "cq: 1 2 3 4\n",
      "cq: 2 3 4\n",
      "cq: 3 4\n",
      "cq: 4\n",
      "cq: \n",
      "@cannot dequeue in empty queue!\n",
      "cq.queue, cq.front, cq.rear : [0, 1, 2, 3, 4] -1 -1\n",
      "cq: \n"
     ]
    }
   ],
   "source": [
    "from circularQueue import *\n",
    "print('Now, init queue:')\n",
    "cq = circularQueue(5)\n",
    "print('cq.queue, cq.front, cq.rear :', cq.queue, cq.front, cq.rear)\n",
    "print('cq:',cq)\n",
    "\n",
    "print('-' * 50)\n",
    "print('Now, enqueue:')\n",
    "for ii in range(6):\n",
    "    print('cq:',cq)\n",
    "    cq.enqueue(ii)\n",
    "\n",
    "print('cq.queue, cq.front, cq.rear :', cq.queue, cq.front, cq.rear)\n",
    "print('cq:',cq)\n",
    "print('-' * 50)\n",
    "print('Now, dequeue:')\n",
    "for _ in range(6):\n",
    "    print('cq:',cq)\n",
    "    cq.dequeue()\n",
    "\n",
    "print('cq.queue, cq.front, cq.rear :', cq.queue, cq.front, cq.rear)\n",
    "print('cq:',cq)"
   ]
  },
  {
   "cell_type": "markdown",
   "metadata": {},
   "source": [
    "### 5. Priority Queue"
   ]
  },
  {
   "cell_type": "code",
   "execution_count": null,
   "metadata": {},
   "outputs": [],
   "source": []
  },
  {
   "cell_type": "code",
   "execution_count": null,
   "metadata": {},
   "outputs": [],
   "source": []
  }
 ],
 "metadata": {
  "anaconda-cloud": {},
  "kernelspec": {
   "display_name": "Python 3",
   "language": "python",
   "name": "python3"
  },
  "language_info": {
   "codemirror_mode": {
    "name": "ipython",
    "version": 3
   },
   "file_extension": ".py",
   "mimetype": "text/x-python",
   "name": "python",
   "nbconvert_exporter": "python",
   "pygments_lexer": "ipython3",
   "version": "3.6.7"
  }
 },
 "nbformat": 4,
 "nbformat_minor": 2
}
