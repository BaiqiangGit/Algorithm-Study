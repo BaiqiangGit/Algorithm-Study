{
 "cells": [
  {
   "cell_type": "markdown",
   "metadata": {},
   "source": [
    "### 1. Stack\n",
    "* A list of elements ordered by the their time of arrival\n",
    "* Stack insertion and deletion take place at the top end (**while** queue insertion at tail/rear, deletion at head/front)\n",
    "* Last in Fist Out (LIFO), First In Last Out (FILO)\n",
    "\n",
    "### 2. Applications\n",
    "* Implement recursive function calls\n",
    "* Implement undo/back functions, e.g. browsing history, Ctr + Z \n",
    "* Tags matching in HTML, XML\n",
    "\n",
    "### 3. Python List Implementation"
   ]
  },
  {
   "cell_type": "code",
   "execution_count": 1,
   "metadata": {},
   "outputs": [],
   "source": [
    "import sys\n",
    "sys.path.insert(0, '../ds/')\n",
    "from stack import *"
   ]
  },
  {
   "cell_type": "code",
   "execution_count": 8,
   "metadata": {},
   "outputs": [
    {
     "name": "stdout",
     "output_type": "stream",
     "text": [
      "Now, init a stack:\n",
      "------------------------------\n",
      "Now, push in stack:\n",
      "0\n",
      "0 1\n",
      "0 1 2\n",
      "0 1 2 3\n",
      "0 1 2 3 4\n",
      "0 1 2 3 4 5\n",
      "0 1 2 3 4 5 6\n",
      "0 1 2 3 4 5 6 7\n",
      "0 1 2 3 4 5 6 7 8\n",
      "0 1 2 3 4 5 6 7 8 9\n",
      "@stack if full!\n",
      "0 1 2 3 4 5 6 7 8 9\n",
      "------------------------------\n",
      "Now, pop out stack:\n",
      "0 1 2 3 4 5 6 7 8\n",
      "0 1 2 3 4 5 6 7\n",
      "0 1 2 3 4 5 6\n",
      "0 1 2 3 4 5\n",
      "0 1 2 3 4\n",
      "0 1 2 3\n",
      "0 1 2\n",
      "0 1\n",
      "0\n",
      "\n"
     ]
    }
   ],
   "source": [
    "print('Now, init a stack:')\n",
    "st = stack(10)\n",
    "\n",
    "print('-' * 30)\n",
    "print('Now, push in stack:')\n",
    "for ii in range(11):\n",
    "    st.push(ii)\n",
    "    print(st)\n",
    "\n",
    "print('-' * 30)\n",
    "print('Now, pop out stack:')\n",
    "for ii in range(10):\n",
    "    st.pop()\n",
    "    print(st)"
   ]
  },
  {
   "cell_type": "code",
   "execution_count": 12,
   "metadata": {},
   "outputs": [
    {
     "data": {
      "text/plain": [
       "'0b1100000'"
      ]
     },
     "execution_count": 12,
     "metadata": {},
     "output_type": "execute_result"
    }
   ],
   "source": [
    "bin(96)"
   ]
  },
  {
   "cell_type": "code",
   "execution_count": null,
   "metadata": {},
   "outputs": [],
   "source": []
  }
 ],
 "metadata": {
  "kernelspec": {
   "display_name": "Python 3",
   "language": "python",
   "name": "python3"
  },
  "language_info": {
   "codemirror_mode": {
    "name": "ipython",
    "version": 3
   },
   "file_extension": ".py",
   "mimetype": "text/x-python",
   "name": "python",
   "nbconvert_exporter": "python",
   "pygments_lexer": "ipython3",
   "version": "3.6.7"
  }
 },
 "nbformat": 4,
 "nbformat_minor": 2
}
